{
 "cells": [
  {
   "cell_type": "code",
   "execution_count": 4,
   "metadata": {},
   "outputs": [
    {
     "name": "stdout",
     "output_type": "stream",
     "text": [
      "=======using pretrained ssd_512_resnet50_v1_voc======\n",
      "ssd_512_resnet50_v1_voc\n"
     ]
    },
    {
     "ename": "AttributeError",
     "evalue": "'list' object has no attribute 'get_model'",
     "output_type": "error",
     "traceback": [
      "\u001b[0;31m---------------------------------------------------------------------------\u001b[0m",
      "\u001b[0;31mAttributeError\u001b[0m                            Traceback (most recent call last)",
      "\u001b[0;32m<ipython-input-4-ad6442928085>\u001b[0m in \u001b[0;36m<module>\u001b[0;34m\u001b[0m\n\u001b[1;32m     49\u001b[0m     \u001b[0mmodel_zoo\u001b[0m \u001b[0;34m=\u001b[0m \u001b[0;34m[\u001b[0m\u001b[0;34m'faster_rcnn_resnet50_v1b_voc'\u001b[0m\u001b[0;34m,\u001b[0m\u001b[0;34m'ssd_512_resnet50_v1_voc'\u001b[0m\u001b[0;34m,\u001b[0m\u001b[0;34m'yolo3_darknet53_voc'\u001b[0m\u001b[0;34m]\u001b[0m\u001b[0;34m\u001b[0m\u001b[0;34m\u001b[0m\u001b[0m\n\u001b[1;32m     50\u001b[0m     \u001b[0mfast_rcnn\u001b[0m \u001b[0;34m=\u001b[0m \u001b[0mModel_Zoo\u001b[0m\u001b[0;34m(\u001b[0m\u001b[0mmodel_zoo\u001b[0m\u001b[0;34m[\u001b[0m\u001b[0;36m1\u001b[0m\u001b[0;34m]\u001b[0m\u001b[0;34m)\u001b[0m\u001b[0;34m\u001b[0m\u001b[0;34m\u001b[0m\u001b[0m\n\u001b[0;32m---> 51\u001b[0;31m     \u001b[0mbbox_center\u001b[0m \u001b[0;34m=\u001b[0m \u001b[0mfast_rcnn\u001b[0m\u001b[0;34m.\u001b[0m\u001b[0mdetect\u001b[0m\u001b[0;34m(\u001b[0m\u001b[0mtest_img\u001b[0m\u001b[0;34m)\u001b[0m\u001b[0;34m\u001b[0m\u001b[0;34m\u001b[0m\u001b[0m\n\u001b[0m\u001b[1;32m     52\u001b[0m     \u001b[0;31m# print(bbox_center[0])\u001b[0m\u001b[0;34m\u001b[0m\u001b[0;34m\u001b[0m\u001b[0;34m\u001b[0m\u001b[0m\n\u001b[1;32m     53\u001b[0m     \u001b[0;31m# print(bbox_center[1])\u001b[0m\u001b[0;34m\u001b[0m\u001b[0;34m\u001b[0m\u001b[0;34m\u001b[0m\u001b[0m\n",
      "\u001b[0;32m<ipython-input-4-ad6442928085>\u001b[0m in \u001b[0;36mdetect\u001b[0;34m(self, image, display)\u001b[0m\n\u001b[1;32m     14\u001b[0m         \u001b[0;34m'''get bbox for input image'''\u001b[0m\u001b[0;34m\u001b[0m\u001b[0;34m\u001b[0m\u001b[0m\n\u001b[1;32m     15\u001b[0m         \u001b[0mprint\u001b[0m\u001b[0;34m(\u001b[0m\u001b[0mself\u001b[0m\u001b[0;34m.\u001b[0m\u001b[0msmodel\u001b[0m\u001b[0;34m)\u001b[0m\u001b[0;34m\u001b[0m\u001b[0;34m\u001b[0m\u001b[0m\n\u001b[0;32m---> 16\u001b[0;31m         \u001b[0mnet\u001b[0m \u001b[0;34m=\u001b[0m \u001b[0mmodel_zoo\u001b[0m\u001b[0;34m.\u001b[0m\u001b[0mget_model\u001b[0m\u001b[0;34m(\u001b[0m\u001b[0mself\u001b[0m\u001b[0;34m.\u001b[0m\u001b[0msmodel\u001b[0m\u001b[0;34m,\u001b[0m \u001b[0mpretrained\u001b[0m\u001b[0;34m=\u001b[0m\u001b[0;32mTrue\u001b[0m\u001b[0;34m)\u001b[0m\u001b[0;34m\u001b[0m\u001b[0;34m\u001b[0m\u001b[0m\n\u001b[0m\u001b[1;32m     17\u001b[0m         \u001b[0mx\u001b[0m\u001b[0;34m,\u001b[0m \u001b[0morig_img\u001b[0m \u001b[0;34m=\u001b[0m \u001b[0mdata\u001b[0m\u001b[0;34m.\u001b[0m\u001b[0mtransforms\u001b[0m\u001b[0;34m.\u001b[0m\u001b[0mpresets\u001b[0m\u001b[0;34m.\u001b[0m\u001b[0mrcnn\u001b[0m\u001b[0;34m.\u001b[0m\u001b[0mload_test\u001b[0m\u001b[0;34m(\u001b[0m\u001b[0mimage\u001b[0m\u001b[0;34m)\u001b[0m\u001b[0;34m\u001b[0m\u001b[0;34m\u001b[0m\u001b[0m\n\u001b[1;32m     18\u001b[0m         \u001b[0mbox_ids\u001b[0m\u001b[0;34m,\u001b[0m \u001b[0mscores\u001b[0m\u001b[0;34m,\u001b[0m \u001b[0mbboxes\u001b[0m \u001b[0;34m=\u001b[0m \u001b[0mnet\u001b[0m\u001b[0;34m(\u001b[0m\u001b[0mx\u001b[0m\u001b[0;34m)\u001b[0m\u001b[0;34m\u001b[0m\u001b[0;34m\u001b[0m\u001b[0m\n",
      "\u001b[0;31mAttributeError\u001b[0m: 'list' object has no attribute 'get_model'"
     ]
    }
   ],
   "source": [
    "import gluoncv\n",
    "from gluoncv import model_zoo, data, utils\n",
    "from matplotlib import pyplot as plt\n",
    "import numpy\n",
    "'''\n",
    "step0 install gluoncv\n",
    "pip install --upgrade mxnet gluoncv\n",
    "'''\n",
    "class Model_Zoo:\n",
    "    def __init__(self,selected_model):\n",
    "        print('=======using pretrained {0}======'.format(selected_model))\n",
    "        self.smodel = selected_model\n",
    "    def detect(self,image,display=False):\n",
    "        '''get bbox for input image'''\n",
    "        print(self.smodel)\n",
    "        net = model_zoo.get_model(self.smodel, pretrained=True)\n",
    "        x, orig_img = data.transforms.presets.rcnn.load_test(image)\n",
    "        box_ids, scores, bboxes = net(x)\n",
    "        #possible classes:\n",
    "        print(net.classes)\n",
    "        #person = 14\n",
    "        person_index = []\n",
    "        for i in range(box_ids.shape[1]):\n",
    "            if box_ids[0][i][0] == 14 and scores[0][i][0] != -1:\n",
    "                person_index.append(i)\n",
    "        #select bbox of person\n",
    "        #p1:bbox id of person\n",
    "        #p2:confidence score\n",
    "        #p3:bbox location\n",
    "        p1,p2,p3 = box_ids[0][[person_index],:],scores[0][[person_index],:],bboxes[0][[person_index],:]\n",
    "        if display:\n",
    "            ax = utils.viz.plot_bbox(orig_img, p3[0], p2[0], p1[0], class_names=net.classes)\n",
    "            plt.show()\n",
    "        bbox_center = self.bbox_center(p3)\n",
    "        return bbox_center\n",
    "        \n",
    "    def bbox_center(self,bbox_location):\n",
    "        '''calculate center coordinate for each bbox'''\n",
    "        rst = []\n",
    "        for loc in range(bbox_location[0].shape[0]):\n",
    "            (xmin, ymin, xmax, ymax) = bbox_location[0][loc]\n",
    "            center_x = (xmin+xmax)/2\n",
    "            center_y = (ymin+ymax)/2\n",
    "            rst.append([center_x,center_y])\n",
    "        return rst\n",
    "\n",
    "if __name__=='__main__':\n",
    "    test_img = './video_frames/0.png'\n",
    "    pretrained_models = ['faster_rcnn_resnet50_v1b_voc','ssd_512_resnet50_v1_voc','yolo3_darknet53_voc']\n",
    "    fast_rcnn = Model_Zoo(pretrained_models[1])\n",
    "    bbox_center = fast_rcnn.detect(test_img)\n",
    "    # print(bbox_center[0])\n",
    "    # print(bbox_center[1])\n",
    "    print(bbox_center)\n",
    "\n"
   ]
  },
  {
   "cell_type": "code",
   "execution_count": null,
   "metadata": {},
   "outputs": [],
   "source": []
  }
 ],
 "metadata": {
  "kernelspec": {
   "display_name": "Python 3",
   "language": "python",
   "name": "python3"
  },
  "language_info": {
   "codemirror_mode": {
    "name": "ipython",
    "version": 3
   },
   "file_extension": ".py",
   "mimetype": "text/x-python",
   "name": "python",
   "nbconvert_exporter": "python",
   "pygments_lexer": "ipython3",
   "version": "3.7.1"
  }
 },
 "nbformat": 4,
 "nbformat_minor": 2
}
