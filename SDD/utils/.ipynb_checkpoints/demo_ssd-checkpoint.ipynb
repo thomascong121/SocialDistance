{
 "cells": [
  {
   "cell_type": "code",
   "execution_count": null,
   "metadata": {},
   "outputs": [],
   "source": [
    "%matplotlib inline"
   ]
  },
  {
   "cell_type": "markdown",
   "metadata": {},
   "source": [
    "01. Predict with pre-trained SSD models\n",
    "==========================================\n",
    "\n",
    "This article shows how to play with pre-trained SSD models with only a few\n",
    "lines of code.\n",
    "\n",
    "First let's import some necessary libraries:\n"
   ]
  },
  {
   "cell_type": "code",
   "execution_count": null,
   "metadata": {},
   "outputs": [],
   "source": [
    "from gluoncv import model_zoo, data, utils\n",
    "from matplotlib import pyplot as plt"
   ]
  },
  {
   "cell_type": "markdown",
   "metadata": {},
   "source": [
    "Load a pretrained model\n",
    "-------------------------\n",
    "\n",
    "Let's get an SSD model trained with 512x512 images on Pascal VOC\n",
    "dataset with ResNet-50 V1 as the base model. By specifying\n",
    "``pretrained=True``, it will automatically download the model from the model\n",
    "zoo if necessary. For more pretrained models, please refer to\n",
    ":doc:`../../model_zoo/index`.\n",
    "\n"
   ]
  },
  {
   "cell_type": "code",
   "execution_count": null,
   "metadata": {},
   "outputs": [],
   "source": [
    "net = model_zoo.get_model('ssd_512_resnet50_v1_voc', pretrained=True)"
   ]
  },
  {
   "cell_type": "markdown",
   "metadata": {},
   "source": [
    "Pre-process an image\n",
    "--------------------\n",
    "\n",
    "Next we download an image, and pre-process with preset data transforms. Here we\n",
    "specify that we resize the short edge of the image to 512 px. But you can\n",
    "feed an arbitrarily sized image.\n",
    "\n",
    "You can provide a list of image file names, such as ``[im_fname1, im_fname2,\n",
    "...]`` to :py:func:`gluoncv.data.transforms.presets.ssd.load_test` if you\n",
    "want to load multiple image together.\n",
    "\n",
    "This function returns two results. The first is a NDArray with shape\n",
    "`(batch_size, RGB_channels, height, width)`. It can be fed into the\n",
    "model directly. The second one contains the images in numpy format to\n",
    "easy to be plotted. Since we only loaded a single image, the first dimension\n",
    "of `x` is 1.\n",
    "\n"
   ]
  },
  {
   "cell_type": "code",
   "execution_count": null,
   "metadata": {},
   "outputs": [],
   "source": [
    "im_fname = utils.download('https://github.com/dmlc/web-data/blob/master/' +\n",
    "                          'gluoncv/detection/street_small.jpg?raw=true',\n",
    "                          path='street_small.jpg')\n",
    "x, img = data.transforms.presets.ssd.load_test(im_fname, short=512)\n",
    "print('Shape of pre-processed image:', x.shape)"
   ]
  },
  {
   "cell_type": "markdown",
   "metadata": {},
   "source": [
    "Inference and display\n",
    "---------------------\n",
    "\n",
    "The forward function will return all detected bounding boxes, and the\n",
    "corresponding predicted class IDs and confidence scores. Their shapes are\n",
    "`(batch_size, num_bboxes, 1)`, `(batch_size, num_bboxes, 1)`, and\n",
    "`(batch_size, num_bboxes, 4)`, respectively.\n",
    "\n",
    "We can use :py:func:`gluoncv.utils.viz.plot_bbox` to visualize the\n",
    "results. We slice the results for the first image and feed them into `plot_bbox`:\n",
    "\n"
   ]
  },
  {
   "cell_type": "code",
   "execution_count": null,
   "metadata": {},
   "outputs": [],
   "source": [
    "class_IDs, scores, bounding_boxes = net(x)\n",
    "\n",
    "ax = utils.viz.plot_bbox(img, bounding_boxes[0], scores[0],\n",
    "                         class_IDs[0], class_names=net.classes)\n",
    "plt.show()"
   ]
  }
 ],
 "metadata": {
  "kernelspec": {
   "display_name": "Python 3",
   "language": "python",
   "name": "python3"
  },
  "language_info": {
   "codemirror_mode": {
    "name": "ipython",
    "version": 3
   },
   "file_extension": ".py",
   "mimetype": "text/x-python",
   "name": "python",
   "nbconvert_exporter": "python",
   "pygments_lexer": "ipython3",
   "version": "3.7.1"
  }
 },
 "nbformat": 4,
 "nbformat_minor": 1
}
