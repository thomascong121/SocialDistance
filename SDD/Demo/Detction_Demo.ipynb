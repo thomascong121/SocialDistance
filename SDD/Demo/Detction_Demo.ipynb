{
  "nbformat": 4,
  "nbformat_minor": 0,
  "metadata": {
    "colab": {
      "name": "Demo.ipynb",
      "provenance": []
    },
    "kernelspec": {
      "name": "python3",
      "display_name": "Python 3"
    },
    "accelerator": "GPU"
  },
  "cells": [
    {
      "cell_type": "code",
      "metadata": {
        "id": "ekP-RsQ2wLTY",
        "colab_type": "code",
        "outputId": "adf128cb-64b0-4af6-8cb2-edcc25a078b1",
        "colab": {
          "base_uri": "https://localhost:8080/",
          "height": 34
        }
      },
      "source": [
        "from google.colab import drive\n",
        "drive.mount('/content/drive')"
      ],
      "execution_count": 0,
      "outputs": [
        {
          "output_type": "stream",
          "text": [
            "Drive already mounted at /content/drive; to attempt to forcibly remount, call drive.mount(\"/content/drive\", force_remount=True).\n"
          ],
          "name": "stdout"
        }
      ]
    },
    {
      "cell_type": "code",
      "metadata": {
        "id": "39htxo52wSU8",
        "colab_type": "code",
        "outputId": "354b8f7e-6d22-441a-d106-b6dbf36c0403",
        "colab": {
          "base_uri": "https://localhost:8080/",
          "height": 552
        }
      },
      "source": [
        "!pip uninstall SDD\n",
        "!pip install SDD"
      ],
      "execution_count": 0,
      "outputs": [
        {
          "output_type": "stream",
          "text": [
            "Uninstalling SDD-0.2.2.5:\n",
            "  Would remove:\n",
            "    /usr/local/lib/python3.6/dist-packages/SDD-0.2.2.5.dist-info/*\n",
            "    /usr/local/lib/python3.6/dist-packages/SDD/*\n",
            "Proceed (y/n)? y\n",
            "  Successfully uninstalled SDD-0.2.2.5\n",
            "Collecting SDD\n",
            "  Downloading https://files.pythonhosted.org/packages/eb/21/7f3d6138fd8a47da5e35f8ef82676b69689bf278a055f6e724a32ec48cef/SDD-0.2.2.6-py3-none-any.whl\n",
            "Requirement already satisfied: numpy in /usr/local/lib/python3.6/dist-packages (from SDD) (1.18.4)\n",
            "Requirement already satisfied: gluoncv in /usr/local/lib/python3.6/dist-packages (from SDD) (0.7.0)\n",
            "Requirement already satisfied: tqdm in /usr/local/lib/python3.6/dist-packages (from SDD) (4.41.1)\n",
            "Requirement already satisfied: matplotlib in /usr/local/lib/python3.6/dist-packages (from SDD) (3.2.1)\n",
            "Requirement already satisfied: mxnet-cu101 in /usr/local/lib/python3.6/dist-packages (from SDD) (1.6.0)\n",
            "Requirement already satisfied: Pillow in /usr/local/lib/python3.6/dist-packages (from gluoncv->SDD) (7.0.0)\n",
            "Requirement already satisfied: portalocker in /usr/local/lib/python3.6/dist-packages (from gluoncv->SDD) (1.7.0)\n",
            "Requirement already satisfied: scipy in /usr/local/lib/python3.6/dist-packages (from gluoncv->SDD) (1.4.1)\n",
            "Requirement already satisfied: requests in /usr/local/lib/python3.6/dist-packages (from gluoncv->SDD) (2.23.0)\n",
            "Requirement already satisfied: kiwisolver>=1.0.1 in /usr/local/lib/python3.6/dist-packages (from matplotlib->SDD) (1.2.0)\n",
            "Requirement already satisfied: pyparsing!=2.0.4,!=2.1.2,!=2.1.6,>=2.0.1 in /usr/local/lib/python3.6/dist-packages (from matplotlib->SDD) (2.4.7)\n",
            "Requirement already satisfied: python-dateutil>=2.1 in /usr/local/lib/python3.6/dist-packages (from matplotlib->SDD) (2.8.1)\n",
            "Requirement already satisfied: cycler>=0.10 in /usr/local/lib/python3.6/dist-packages (from matplotlib->SDD) (0.10.0)\n",
            "Requirement already satisfied: graphviz<0.9.0,>=0.8.1 in /usr/local/lib/python3.6/dist-packages (from mxnet-cu101->SDD) (0.8.4)\n",
            "Requirement already satisfied: urllib3!=1.25.0,!=1.25.1,<1.26,>=1.21.1 in /usr/local/lib/python3.6/dist-packages (from requests->gluoncv->SDD) (1.24.3)\n",
            "Requirement already satisfied: chardet<4,>=3.0.2 in /usr/local/lib/python3.6/dist-packages (from requests->gluoncv->SDD) (3.0.4)\n",
            "Requirement already satisfied: idna<3,>=2.5 in /usr/local/lib/python3.6/dist-packages (from requests->gluoncv->SDD) (2.9)\n",
            "Requirement already satisfied: certifi>=2017.4.17 in /usr/local/lib/python3.6/dist-packages (from requests->gluoncv->SDD) (2020.4.5.1)\n",
            "Requirement already satisfied: six>=1.5 in /usr/local/lib/python3.6/dist-packages (from python-dateutil>=2.1->matplotlib->SDD) (1.12.0)\n",
            "Installing collected packages: SDD\n",
            "Successfully installed SDD-0.2.2.6\n"
          ],
          "name": "stdout"
        }
      ]
    },
    {
      "cell_type": "code",
      "metadata": {
        "id": "3_69RXqCwU85",
        "colab_type": "code",
        "outputId": "2f268ec8-4a19-4d44-917f-363aabb94edd",
        "colab": {
          "base_uri": "https://localhost:8080/",
          "height": 87
        }
      },
      "source": [
        "import SDD\n",
        "from SDD.utils.Run import Detect\n",
        "import mxnet as mx\n",
        "# video_path = '/content/drive/My Drive/SocialDistance/TownCentreXVID.avi'\n",
        "img_path = '/content/drive/My Drive/SDD'#'/content/drive/My Drive/SocialDistance/test'#'/content/drive/My Drive/SocialDistance/data/Mall'\n",
        "# output_path_video = 'drive/My Drive/SocialDistance/outputs/yolo/video'\n",
        "output_path_image = '/content/drive/My Drive/outputs'#'/content/drive/My Drive/SocialDistance/test/outputs'#'drive/My Drive/SocialDistance/outputs/yolo/image'\n",
        "\n",
        "detect = Detect(pretrained_models = 'yolo_v3')\n",
        "detector = detect(save_path = output_path_image, video = False, device = mx.cpu())\n",
        "_ = detector(img_path)"
      ],
      "execution_count": 0,
      "outputs": [
        {
          "output_type": "stream",
          "text": [
            "camera: real-world = (length,width ratio)  0.016666666666666666 0.016666666666666666\n"
          ],
          "name": "stdout"
        },
        {
          "output_type": "stream",
          "text": [
            "\r  0%|          | 0/3 [00:00<?, ?it/s]"
          ],
          "name": "stderr"
        },
        {
          "output_type": "stream",
          "text": [
            "selected model is  yolo_v3\n"
          ],
          "name": "stdout"
        },
        {
          "output_type": "stream",
          "text": [
            "100%|██████████| 3/3 [00:06<00:00,  2.03s/it]"
          ],
          "name": "stderr"
        },
        {
          "output_type": "stream",
          "text": [
            "Video saved at /content/drive/My Drive/outputs/\n"
          ],
          "name": "stdout"
        },
        {
          "output_type": "stream",
          "text": [
            "\n"
          ],
          "name": "stderr"
        }
      ]
    },
    {
      "cell_type": "code",
      "metadata": {
        "id": "nPtyv6xnwoSx",
        "colab_type": "code",
        "outputId": "4a835dcf-3f23-48ed-c77f-8fe03e19c967",
        "colab": {
          "base_uri": "https://localhost:8080/",
          "height": 34
        }
      },
      "source": [
        "import os\n",
        "os.listdir(img_path)"
      ],
      "execution_count": 0,
      "outputs": [
        {
          "output_type": "execute_result",
          "data": {
            "text/plain": [
              "['SD.jpg', 'SER.png', '.ipynb_checkpoints']"
            ]
          },
          "metadata": {
            "tags": []
          },
          "execution_count": 7
        }
      ]
    },
    {
      "cell_type": "code",
      "metadata": {
        "id": "kurV0zLpUG1H",
        "colab_type": "code",
        "colab": {}
      },
      "source": [
        ""
      ],
      "execution_count": 0,
      "outputs": []
    }
  ]
}